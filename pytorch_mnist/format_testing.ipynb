{
 "cells": [
  {
   "cell_type": "code",
   "execution_count": 5,
   "metadata": {
    "tags": []
   },
   "outputs": [],
   "source": [
    "import boto3\n",
    "from sagemaker.pytorch import PyTorch\n",
    "from sagemaker.pytorch import PyTorchModel\n",
    "from sagemaker.model_monitor import DataCaptureConfig\n",
    "from datetime import datetime\n",
    "import json"
   ]
  },
  {
   "cell_type": "code",
   "execution_count": 2,
   "metadata": {
    "tags": []
   },
   "outputs": [],
   "source": [
    "import sagemaker\n",
    "\n",
    "sagemaker_session = sagemaker.Session()\n",
    "\n",
    "bucket = sagemaker_session.default_bucket()\n",
    "prefix = \"sagemaker/DEMO-pytorch-mnist\"\n",
    "\n",
    "role = sagemaker.get_execution_role()"
   ]
  },
  {
   "cell_type": "markdown",
   "metadata": {},
   "source": [
    "## Set up model and data capture config"
   ]
  },
  {
   "cell_type": "code",
   "execution_count": 3,
   "metadata": {
    "tags": []
   },
   "outputs": [],
   "source": [
    "# Set to True to enable data capture\n",
    "enable_capture = True\n",
    "\n",
    "# Optional - Sampling percentage. Choose an integer value between 0 and 100\n",
    "sampling_percentage = 100\n",
    "# sampling_percentage = 30 # Example 30%\n",
    "\n",
    "# Optional - The S3 URI of stored captured-data location\n",
    "s3_capture_upload_path = 's3://'+bucket+'/sagemaker/DEMO-pytorch-mnist/datacaptured/'\n",
    "\n",
    "# Specify either Input, Output or both. \n",
    "capture_modes = ['REQUEST','RESPONSE'] # In this example, we specify both\n",
    "# capture_mode = ['REQUEST'] # Example - If you want to only capture input.\n",
    "\n",
    "# Configuration object passed in when deploying Models to SM endpoints\n",
    "data_capture_config = DataCaptureConfig(\n",
    "    enable_capture = enable_capture, \n",
    "    sampling_percentage = sampling_percentage, # Optional\n",
    "    destination_s3_uri = s3_capture_upload_path, # Optional\n",
    "    capture_options = [{\"CaptureMode\": capture_mode} for capture_mode in capture_modes]\n",
    ")"
   ]
  },
  {
   "cell_type": "code",
   "execution_count": 11,
   "metadata": {
    "tags": []
   },
   "outputs": [],
   "source": [
    "model = PyTorchModel(entry_point='mnist.py', \n",
    "                     model_data='s3://'+bucket+'/pytorch-training-2023-05-10-08-54-53-359/output/model.tar.gz', \n",
    "                     role=role, \n",
    "                     framework_version='1.5', \n",
    "                     py_version='py3')"
   ]
  },
  {
   "cell_type": "code",
   "execution_count": 12,
   "metadata": {
    "tags": []
   },
   "outputs": [
    {
     "name": "stdout",
     "output_type": "stream",
     "text": [
      "-------!"
     ]
    }
   ],
   "source": [
    "predictor = model.deploy(initial_instance_count=1, instance_type=\"ml.m4.xlarge\")"
   ]
  },
  {
   "cell_type": "code",
   "execution_count": null,
   "metadata": {},
   "outputs": [],
   "source": []
  },
  {
   "cell_type": "markdown",
   "metadata": {},
   "source": [
    "## Inference"
   ]
  },
  {
   "cell_type": "markdown",
   "metadata": {},
   "source": [
    "### using sagemaker sdk"
   ]
  },
  {
   "cell_type": "code",
   "execution_count": 13,
   "metadata": {
    "tags": []
   },
   "outputs": [
    {
     "name": "stderr",
     "output_type": "stream",
     "text": [
      "/tmp/ipykernel_28114/1427333465.py:11: DeprecationWarning: `np.int` is a deprecated alias for the builtin `int`. To silence this warning, use `int` by itself. Doing this will not modify any behavior and is safe. When replacing `np.int`, you may wish to use e.g. `np.int64` or `np.int32` to specify the precision. If you wish to review your current use, check the release note link for additional information.\n",
      "Deprecated in NumPy 1.20; for more details and guidance: https://numpy.org/devdocs/release/1.20.0-notes.html#deprecations\n",
      "  mask = np.array(mask, dtype=np.int)\n"
     ]
    }
   ],
   "source": [
    "import gzip\n",
    "import numpy as np\n",
    "import random\n",
    "import os\n",
    "\n",
    "data_dir = \"data/MNIST/raw\"\n",
    "with gzip.open(os.path.join(data_dir, \"t10k-images-idx3-ubyte.gz\"), \"rb\") as f:\n",
    "    images = np.frombuffer(f.read(), np.uint8, offset=16).reshape(-1, 28, 28).astype(np.float32)\n",
    "\n",
    "mask = random.sample(range(len(images)), 16)  # randomly select some of the test images\n",
    "mask = np.array(mask, dtype=np.int)\n",
    "data = images[mask]"
   ]
  },
  {
   "cell_type": "code",
   "execution_count": 14,
   "metadata": {
    "tags": []
   },
   "outputs": [
    {
     "name": "stdout",
     "output_type": "stream",
     "text": [
      "Raw prediction result:\n",
      "[[-8.72769836e+02  0.00000000e+00 -3.87456818e+02 -5.42923706e+02\n",
      "  -5.19874329e+02 -5.33582764e+02 -4.84113525e+02 -5.39617126e+02\n",
      "  -2.92903442e+02 -5.18819702e+02]\n",
      " [-8.51128906e+02 -4.88617371e+02 -3.27007141e+02 -3.44864075e+02\n",
      "  -2.28798187e+02 -6.22366943e+02 -6.91832153e+02  0.00000000e+00\n",
      "  -3.82085541e+02 -3.44996948e+01]\n",
      " [-5.89627075e+02 -6.29067078e+02  0.00000000e+00 -2.59568573e+02\n",
      "  -8.24123230e+02 -7.81030762e+02 -9.17532715e+02 -1.41040619e+02\n",
      "  -3.62419373e+02 -4.03779724e+02]\n",
      " [-6.32844666e+02 -5.85823425e+02 -6.47604126e+02  0.00000000e+00\n",
      "  -9.21528320e+02 -2.41498199e+02 -7.46607788e+02 -7.75312988e+02\n",
      "  -5.43401245e+02 -7.16440674e+02]\n",
      " [-4.68613892e+02 -3.75269198e+00 -2.90488949e+01 -2.37339195e-02\n",
      "  -3.91453827e+02 -2.25934448e+02 -3.73505127e+02 -1.84366440e+02\n",
      "  -3.12580776e+01 -2.74197601e+02]\n",
      " [-1.33648682e+02 -7.68208496e+02 -8.34812988e+02 -1.90050720e+02\n",
      "  -8.04061157e+02  0.00000000e+00 -6.27808777e+02 -5.87867615e+02\n",
      "  -5.52669922e+02 -4.93947083e+02]\n",
      " [-5.92288513e+02 -4.21260315e+02 -3.47844666e+02 -2.63521729e+02\n",
      "  -2.82537811e+02 -2.59616974e+02 -3.97240479e+02 -3.59964050e+02\n",
      "   0.00000000e+00 -2.08230621e+02]\n",
      " [-6.07211548e+02 -2.31400848e+02 -3.34249451e+02  0.00000000e+00\n",
      "  -5.92630310e+02 -2.93780457e+02 -6.01878723e+02 -3.52625275e+02\n",
      "  -3.61535583e+02 -4.47242096e+02]\n",
      " [-1.11852148e+03 -1.22362354e+03 -9.65912842e+02 -1.10960632e+03\n",
      "   0.00000000e+00 -8.88533386e+02 -6.78151733e+02 -7.96183411e+02\n",
      "  -8.18299194e+02 -3.71191864e+02]\n",
      " [-8.01121338e+02 -4.90728851e+02  0.00000000e+00 -3.96291290e+02\n",
      "  -1.04777039e+03 -8.08663452e+02 -6.07190613e+02 -1.01273010e+03\n",
      "  -4.81467743e+02 -1.08771875e+03]\n",
      " [-4.20733582e+02 -4.95364258e+02 -2.54860138e+02 -3.96560577e+02\n",
      "  -4.24178680e+02 -1.64316956e+02  0.00000000e+00 -8.20321167e+02\n",
      "  -2.32567093e+02 -5.47317871e+02]\n",
      " [-8.91597656e+02 -1.09463196e+03 -6.89586914e+02 -1.25231458e+03\n",
      "  -5.36896729e+02 -6.39558716e+02  0.00000000e+00 -1.36868909e+03\n",
      "  -8.22513123e+02 -9.30841370e+02]\n",
      " [-3.86441650e+02 -5.89258850e+02 -4.30691833e+01 -2.92182251e+02\n",
      "  -6.96353333e+02 -7.18435669e+02 -8.22287048e+02  0.00000000e+00\n",
      "  -2.85390015e+02 -2.90365234e+02]\n",
      " [-4.95298889e+02 -7.41521912e+02 -7.90198853e+02  0.00000000e+00\n",
      "  -1.04078198e+03 -1.44431396e+02 -7.81430359e+02 -8.87213989e+02\n",
      "  -5.67634766e+02 -7.68489807e+02]\n",
      " [-7.16018982e+02 -5.84284180e+02 -5.67210266e+02  0.00000000e+00\n",
      "  -8.67098999e+02 -4.39612213e+02 -9.79821411e+02 -5.48280151e+02\n",
      "  -4.59296143e+02 -5.56528320e+02]\n",
      " [-5.03299377e+02 -3.40374146e+02 -3.32251465e+02 -2.11842285e+02\n",
      "  -5.33869751e+02 -2.50683884e+02 -4.39263336e+02 -4.77558838e+02\n",
      "   0.00000000e+00 -4.18819763e+02]]\n",
      "\n",
      "Labeled predictions: \n",
      "[(0, -872.7698364257812), (1, 0.0), (2, -387.4568176269531), (3, -542.9237060546875), (4, -519.8743286132812), (5, -533.582763671875), (6, -484.113525390625), (7, -539.6171264648438), (8, -292.9034423828125), (9, -518.8197021484375)]\n",
      "\n",
      "Most likely answer: (1, 0.0)\n"
     ]
    }
   ],
   "source": [
    "response = predictor.predict(np.expand_dims(data, axis=1))\n",
    "print(\"Raw prediction result:\")\n",
    "print(response)\n",
    "print()\n",
    "\n",
    "labeled_predictions = list(zip(range(10), response[0]))\n",
    "print(\"Labeled predictions: \")\n",
    "print(labeled_predictions)\n",
    "print()\n",
    "\n",
    "labeled_predictions.sort(key=lambda label_and_prob: 1.0 - label_and_prob[1])\n",
    "print(\"Most likely answer: {}\".format(labeled_predictions[0]))"
   ]
  },
  {
   "cell_type": "markdown",
   "metadata": {},
   "source": [
    "### Cleanup"
   ]
  },
  {
   "cell_type": "code",
   "execution_count": null,
   "metadata": {},
   "outputs": [],
   "source": [
    "sagemaker_session.delete_endpoint(endpoint_name=predictor.endpoint_name)"
   ]
  },
  {
   "cell_type": "code",
   "execution_count": null,
   "metadata": {},
   "outputs": [],
   "source": []
  },
  {
   "cell_type": "markdown",
   "metadata": {},
   "source": [
    "### using boto3"
   ]
  },
  {
   "cell_type": "code",
   "execution_count": 15,
   "metadata": {
    "tags": []
   },
   "outputs": [],
   "source": [
    "client = boto3.client(\"sagemaker\")"
   ]
  },
  {
   "cell_type": "code",
   "execution_count": 16,
   "metadata": {
    "tags": []
   },
   "outputs": [
    {
     "name": "stdout",
     "output_type": "stream",
     "text": [
      "{'EndpointConfigArn': 'arn:aws:sagemaker:us-east-1:233395505052:endpoint-config/datacaptured-endpoint-config-2023-05-10-09-40-33', 'ResponseMetadata': {'RequestId': '4cb8e679-2635-4bfe-9fe5-78a0f0ab88f4', 'HTTPStatusCode': 200, 'HTTPHeaders': {'x-amzn-requestid': '4cb8e679-2635-4bfe-9fe5-78a0f0ab88f4', 'content-type': 'application/x-amz-json-1.1', 'content-length': '129', 'date': 'Wed, 10 May 2023 09:40:32 GMT'}, 'RetryAttempts': 0}}\n"
     ]
    }
   ],
   "source": [
    "endpoint_config_name = \"datacaptured-endpoint-config-\" + datetime.now().strftime(\n",
    "    \"%Y-%m-%d-%H-%M-%S\"\n",
    ")\n",
    "\n",
    "capture_modes = ['Input','Output']\n",
    "\n",
    "endpoint_config_response = client.create_endpoint_config(\n",
    "    EndpointConfigName=endpoint_config_name,\n",
    "    ProductionVariants=[\n",
    "        {\n",
    "            \"VariantName\": \"AllTrafficVariant\",\n",
    "            \"ModelName\": \"pytorch-training-2023-05-10-09-01-21-804\",\n",
    "            \"InitialInstanceCount\": 1,\n",
    "            \"InstanceType\": \"ml.m4.xlarge\",\n",
    "            \"InitialVariantWeight\": 1,\n",
    "        },\n",
    "    ],\n",
    "    DataCaptureConfig= {\n",
    "        'EnableCapture': enable_capture, # Whether data should be captured or not.\n",
    "        'InitialSamplingPercentage' : sampling_percentage,\n",
    "        'DestinationS3Uri': 's3://'+bucket+'/sagemaker/DEMO-pytorch-mnist/datacaptured/',\n",
    "        'CaptureOptions': [{\"CaptureMode\": capture_mode} for capture_mode in capture_modes] # Example - Use list comprehension to capture both Input and Output\n",
    "    }\n",
    ")\n",
    "print(endpoint_config_response)"
   ]
  },
  {
   "cell_type": "code",
   "execution_count": 18,
   "metadata": {
    "tags": []
   },
   "outputs": [
    {
     "name": "stdout",
     "output_type": "stream",
     "text": [
      "EndpointName = DEMO-2023-05-10-0941\n"
     ]
    }
   ],
   "source": [
    "# The name of the endpoint. The name must be unique within an AWS Region in your AWS account.\n",
    "endpoint_name = f\"DEMO-{datetime.utcnow():%Y-%m-%d-%H%M}\"\n",
    "print(\"EndpointName =\", endpoint_name)\n",
    "\n",
    "# The name of the endpoint configuration associated with this endpoint.\n",
    "endpoint_config_name='datacaptured-endpoint-config-2023-05-10-09-40-33'\n",
    "\n",
    "create_endpoint_response = client.create_endpoint(\n",
    "                                            EndpointName=endpoint_name, \n",
    "                                            EndpointConfigName=endpoint_config_name) \n"
   ]
  },
  {
   "cell_type": "code",
   "execution_count": 19,
   "metadata": {
    "tags": []
   },
   "outputs": [
    {
     "name": "stderr",
     "output_type": "stream",
     "text": [
      "/tmp/ipykernel_28114/1427333465.py:11: DeprecationWarning: `np.int` is a deprecated alias for the builtin `int`. To silence this warning, use `int` by itself. Doing this will not modify any behavior and is safe. When replacing `np.int`, you may wish to use e.g. `np.int64` or `np.int32` to specify the precision. If you wish to review your current use, check the release note link for additional information.\n",
      "Deprecated in NumPy 1.20; for more details and guidance: https://numpy.org/devdocs/release/1.20.0-notes.html#deprecations\n",
      "  mask = np.array(mask, dtype=np.int)\n"
     ]
    }
   ],
   "source": [
    "import gzip\n",
    "import numpy as np\n",
    "import random\n",
    "import os\n",
    "\n",
    "data_dir = \"data/MNIST/raw\"\n",
    "with gzip.open(os.path.join(data_dir, \"t10k-images-idx3-ubyte.gz\"), \"rb\") as f:\n",
    "    images = np.frombuffer(f.read(), np.uint8, offset=16).reshape(-1, 28, 28).astype(np.float32)\n",
    "\n",
    "mask = random.sample(range(len(images)), 16)  # randomly select some of the test images\n",
    "mask = np.array(mask, dtype=np.int)\n",
    "data = images[mask]"
   ]
  },
  {
   "cell_type": "code",
   "execution_count": 20,
   "metadata": {
    "tags": []
   },
   "outputs": [],
   "source": [
    "runtime = boto3.Session().client('sagemaker-runtime')\n",
    " \n",
    "payload = np.expand_dims(data, axis=1)\n",
    "\n",
    "response = runtime.invoke_endpoint(\n",
    "    EndpointName=endpoint_name, \n",
    "    ContentType=\"application/json\",\n",
    "    Body=json.dumps(payload.tolist())\n",
    ")\n",
    "\n",
    "# Unpack response\n",
    "result = json.loads(response['Body'].read().decode())"
   ]
  },
  {
   "cell_type": "code",
   "execution_count": 21,
   "metadata": {
    "tags": []
   },
   "outputs": [
    {
     "name": "stdout",
     "output_type": "stream",
     "text": [
      "[[-381.2196960449219, -968.1498413085938, -433.7049560546875, -806.2803344726562, -518.8556518554688, -144.55987548828125, 0.0, -1076.2525634765625, -230.92703247070312, -779.2767333984375], [0.0, -1668.68017578125, -1016.89599609375, -1054.2708740234375, -1331.9700927734375, -717.933349609375, -888.0360717773438, -1136.0673828125, -959.7238159179688, -1156.778076171875], [-140.93682861328125, -769.9830932617188, -383.64044189453125, -565.3563232421875, -471.65496826171875, -191.90707397460938, 0.0, -778.34228515625, -504.9467468261719, -547.4365844726562], [-713.4273681640625, -851.4942016601562, -562.2140502929688, -956.948486328125, -420.8827819824219, -527.416259765625, 0.0, -1060.938232421875, -565.1646118164062, -752.6799926757812], [-731.625, -939.6171875, -781.415771484375, -480.70867919921875, -349.8907470703125, -509.7834777832031, -791.7542114257812, -46.23193359375, -621.1145629882812, 0.0], [-409.4957275390625, -730.2821044921875, 0.0, -374.5521240234375, -605.0182495117188, -671.8499145507812, -465.7582092285156, -630.9854736328125, -396.23651123046875, -621.900634765625], [-256.5440979003906, -749.5791015625, -787.75732421875, -155.07901000976562, -746.2123413085938, 0.0, -579.130859375, -603.744873046875, -453.5198974609375, -458.89996337890625], [-925.8131103515625, -1024.6678466796875, -759.1051025390625, -533.054931640625, -217.8094482421875, -507.18267822265625, -763.7645263671875, -296.4749755859375, -419.25390625, 0.0], [-546.49365234375, -497.01666259765625, -465.3206787109375, -265.7515869140625, -337.4379577636719, -221.5714874267578, -562.0592041015625, -258.380615234375, 0.0, -113.40000915527344], [-811.3013916015625, -858.5347290039062, -788.4088745117188, -546.8048706054688, 0.0, -432.66900634765625, -517.1249389648438, -421.1674499511719, -429.03009033203125, -60.171051025390625], [-456.1952819824219, -560.14697265625, -396.4145812988281, 0.0, -757.15185546875, -425.1210632324219, -681.5451049804688, -490.7637939453125, -407.149169921875, -535.296142578125], [0.0, -1532.943115234375, -949.2320556640625, -952.5341796875, -1213.7017822265625, -626.91650390625, -747.8369750976562, -1093.6524658203125, -857.30029296875, -1109.64892578125], [-727.9345703125, -942.7607421875, -655.632080078125, -486.7578125, -171.86996459960938, -465.36907958984375, -611.8135375976562, -222.22085571289062, -430.1444396972656, 0.0], [-810.8587036132812, -1068.340576171875, 0.0, -654.3851928710938, -1040.349853515625, -1177.448486328125, -859.0555419921875, -1014.7424926757812, -648.9639892578125, -1059.4132080078125], [-562.17138671875, -414.9292907714844, 0.0, -150.27783203125, -831.664794921875, -616.3223266601562, -684.6455078125, -629.6220092773438, -207.019775390625, -757.050537109375], [-866.5209350585938, -707.2662963867188, -532.0546875, 0.0, -932.6666259765625, -584.944091796875, -1078.73779296875, -525.9932861328125, -493.50115966796875, -549.5654296875]]\n"
     ]
    }
   ],
   "source": [
    "print(result)"
   ]
  },
  {
   "cell_type": "code",
   "execution_count": 27,
   "metadata": {
    "tags": []
   },
   "outputs": [
    {
     "name": "stdout",
     "output_type": "stream",
     "text": [
      "Labeled predictions: \n",
      "[(0, -381.2196960449219), (1, -968.1498413085938), (2, -433.7049560546875), (3, -806.2803344726562), (4, -518.8556518554688), (5, -144.55987548828125), (6, 0.0), (7, -1076.2525634765625), (8, -230.92703247070312), (9, -779.2767333984375)]\n",
      "\n",
      "Most likely answer: (6, 0.0)\n"
     ]
    }
   ],
   "source": [
    "labeled_predictions = list(zip(range(10), result[0]))\n",
    "print(\"Labeled predictions: \")\n",
    "print(labeled_predictions)\n",
    "print()\n",
    "\n",
    "labeled_predictions.sort(key=lambda label_and_prob: 1.0 - label_and_prob[1])\n",
    "print(\"Most likely answer: {}\".format(labeled_predictions[0]))"
   ]
  },
  {
   "cell_type": "code",
   "execution_count": 25,
   "metadata": {
    "tags": []
   },
   "outputs": [],
   "source": [
    "import matplotlib.pyplot as plt"
   ]
  },
  {
   "cell_type": "code",
   "execution_count": 26,
   "metadata": {
    "tags": []
   },
   "outputs": [
    {
     "data": {
      "text/plain": [
       "<matplotlib.image.AxesImage at 0x7f738ee9fac0>"
      ]
     },
     "execution_count": 26,
     "metadata": {},
     "output_type": "execute_result"
    },
    {
     "data": {
      "image/png": "[encoded data removed]",
      "text/plain": [
       "<Figure size 640x480 with 1 Axes>"
      ]
     },
     "metadata": {},
     "output_type": "display_data"
    }
   ],
   "source": [
    "plt.imshow(data[2,:,:])"
   ]
  },
  {
   "cell_type": "markdown",
   "metadata": {},
   "source": [
    "### Cleanup"
   ]
  },
  {
   "cell_type": "code",
   "execution_count": 29,
   "metadata": {
    "tags": []
   },
   "outputs": [
    {
     "data": {
      "text/plain": [
       "{'ResponseMetadata': {'RequestId': '55a87a3c-fe8f-4621-8395-52111d108904',\n",
       "  'HTTPStatusCode': 200,\n",
       "  'HTTPHeaders': {'x-amzn-requestid': '55a87a3c-fe8f-4621-8395-52111d108904',\n",
       "   'content-type': 'application/x-amz-json-1.1',\n",
       "   'content-length': '0',\n",
       "   'date': 'Wed, 10 May 2023 10:11:51 GMT'},\n",
       "  'RetryAttempts': 0}}"
      ]
     },
     "execution_count": 29,
     "metadata": {},
     "output_type": "execute_result"
    }
   ],
   "source": [
    "client.delete_endpoint(EndpointName=endpoint_name)"
   ]
  },
  {
   "cell_type": "code",
   "execution_count": null,
   "metadata": {},
   "outputs": [],
   "source": []
  },
  {
   "cell_type": "code",
   "execution_count": null,
   "metadata": {},
   "outputs": [],
   "source": []
  },
  {
   "cell_type": "code",
   "execution_count": null,
   "metadata": {},
   "outputs": [],
   "source": []
  }
 ],
 "metadata": {
  "kernelspec": {
   "display_name": "conda_pytorch_p39",
   "language": "python",
   "name": "conda_pytorch_p39"
  },
  "language_info": {
   "codemirror_mode": {
    "name": "ipython",
    "version": 3
   },
   "file_extension": ".py",
   "mimetype": "text/x-python",
   "name": "python",
   "nbconvert_exporter": "python",
   "pygments_lexer": "ipython3",
   "version": "3.9.15"
  },
  "notice": "Copyright 2018 Amazon.com, Inc. or its affiliates. All Rights Reserved.  Licensed under the Apache License, Version 2.0 (the \"License\"). You may not use this file except in compliance with the License. A copy of the License is located at http://aws.amazon.com/apache2.0/ or in the \"license\" file accompanying this file. This file is distributed on an \"AS IS\" BASIS, WITHOUT WARRANTIES OR CONDITIONS OF ANY KIND, either express or implied. See the License for the specific language governing permissions and limitations under the License."
 },
 "nbformat": 4,
 "nbformat_minor": 4
}
